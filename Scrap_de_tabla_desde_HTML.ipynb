{
  "nbformat": 4,
  "nbformat_minor": 0,
  "metadata": {
    "colab": {
      "name": "Scrap de tabla desde HTML.ipynb",
      "provenance": [],
      "authorship_tag": "ABX9TyOLgfdGL7CMOT/cji6KJ0t1"
    },
    "kernelspec": {
      "name": "python3",
      "display_name": "Python 3"
    },
    "language_info": {
      "name": "python"
    }
  },
  "cells": [
    {
      "cell_type": "code",
      "source": [
        "import pandas as pd\n",
        "import re\n",
        "# pd.set_option(\"display.max_columns\", 3)\n",
        "\n",
        "inflation_tables = pd.read_html('https://en.wikipedia.org/wiki/List_of_countries_by_inflation_rate')\n",
        "\n",
        "print(f'Total tables: {len(inflation_tables)}')\n",
        "\n",
        "# Preview of tables to scrape\n",
        "for i in range(len(inflation_tables)):\n",
        "  print(f'\\nTabla {i}')\n",
        "  print(inflation_tables[i].head())\n",
        "\n",
        "print('#################')\n",
        "# create df with the selected table\n",
        "df = inflation_tables[1]\n",
        "print(df.head())\n",
        "\n",
        "# Renombro las columnas\n",
        "df.columns = ['Pais',\n",
        "              'Inflación',\n",
        "              'Año']\n",
        "\n",
        "# check df shape\n",
        "print(\"SHAPE\")\n",
        "print(df.shape)\n",
        "\n",
        "# check df types\n",
        "print(\"INFO\")\n",
        "print(df.info())\n",
        "\n",
        "# set Inflation Rate column to float\n",
        "# Comentada porque la columna es float.\n",
        "# infl_rate = []\n",
        "# for i in df['Inflation rate (consumer prices) (%)']:\n",
        "#     if '−' in i:\n",
        "#         i = i.replace('−', '-')\n",
        "#     if '-' in i:\n",
        "#         i = i.replace('-', '-')\n",
        "#     i = float(i)\n",
        "#     infl_rate.append(i)\n",
        "\n",
        "# df['Inflation rate (consumer prices) (%)'] = infl_rate\n",
        "\n",
        "\n",
        "# Limpia la columna Año\n",
        "years = []\n",
        "for i in df['Año']:\n",
        "    i = re.split(' est.', i)[0]    # Hace split dividiendo con ' est.' y toma la primer parte\n",
        "    i = re.sub('\\D', '', i)        # Hace elimina todo lo que no sea un número, dejando solo el año\n",
        "    years.append(i)\n",
        "\n",
        "print(f'Years {years}')\n",
        "df['Año'] = years                  # Asigna a la serie Año la lista armada con los datos limpios\n",
        "\n",
        "\n",
        "# Ordena por indice de inflación\n",
        "# y muestra los 10 mayores y menores\n",
        "df = df.sort_values(by=['Inflación'])  \n",
        "\n",
        "lowest = df.head(10)\n",
        "highest = df.tail(10)\n",
        "\n",
        "print(lowest)\n",
        "print(highest)"
      ],
      "metadata": {
        "id": "3R2j3krIDJHH"
      },
      "execution_count": null,
      "outputs": []
    },
    {
      "cell_type": "code",
      "source": [
        "# Comandos para inspeccionar el Dataframe\n",
        "\n",
        "tabla.describe\n",
        "tabla.info()\n",
        "print(tabla.columns)"
      ],
      "metadata": {
        "id": "BL8fYn8iQ9M2"
      },
      "execution_count": null,
      "outputs": []
    }
  ]
}